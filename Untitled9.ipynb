{
  "nbformat": 4,
  "nbformat_minor": 0,
  "metadata": {
    "colab": {
      "name": "Untitled9.ipynb",
      "provenance": [],
      "collapsed_sections": [],
      "include_colab_link": true
    },
    "kernelspec": {
      "name": "python3",
      "display_name": "Python 3"
    }
  },
  "cells": [
    {
      "cell_type": "markdown",
      "metadata": {
        "id": "view-in-github",
        "colab_type": "text"
      },
      "source": [
        "<a href=\"https://colab.research.google.com/github/max-cyril/sentiment_analysis/blob/master/Untitled9.ipynb\" target=\"_parent\"><img src=\"https://colab.research.google.com/assets/colab-badge.svg\" alt=\"Open In Colab\"/></a>"
      ]
    },
    {
      "cell_type": "code",
      "metadata": {
        "id": "hOgr3uFrT2DO"
      },
      "source": [
        ""
      ],
      "execution_count": null,
      "outputs": []
    },
    {
      "cell_type": "code",
      "metadata": {
        "id": "NnRrWo-QT4Nf"
      },
      "source": [
        ""
      ],
      "execution_count": null,
      "outputs": []
    },
    {
      "cell_type": "markdown",
      "metadata": {
        "id": "UXAFDiLoByZy"
      },
      "source": [
        "##  pre-processing\r\n",
        "1-relabel\r\n",
        "2- "
      ]
    },
    {
      "cell_type": "code",
      "metadata": {
        "id": "Bu38tJB0T4V5"
      },
      "source": [
        ""
      ],
      "execution_count": 1,
      "outputs": []
    },
    {
      "cell_type": "code",
      "metadata": {
        "id": "C_WWBVpJJFEW"
      },
      "source": [
        "import pandas as pd"
      ],
      "execution_count": 12,
      "outputs": []
    },
    {
      "cell_type": "code",
      "metadata": {
        "colab": {
          "base_uri": "https://localhost:8080/"
        },
        "id": "IkYkcBFXFpSR",
        "outputId": "007c8c6e-cb5b-494d-ea38-bd30d73fd84d"
      },
      "source": [
        "p=pd.read_json('/content/Electronics_5.json',lines=True)\r\n",
        "p.overall.value_counts()"
      ],
      "execution_count": 2,
      "outputs": [
        {
          "output_type": "execute_result",
          "data": {
            "text/plain": [
              "5    1009026\n",
              "4     347041\n",
              "3     142257\n",
              "1     108725\n",
              "2      82139\n",
              "Name: overall, dtype: int64"
            ]
          },
          "metadata": {
            "tags": []
          },
          "execution_count": 2
        }
      ]
    },
    {
      "cell_type": "code",
      "metadata": {
        "colab": {
          "base_uri": "https://localhost:8080/",
          "height": 206
        },
        "id": "PzEljhsVIHoP",
        "outputId": "442d6035-f352-4d84-c747-bbfece38050b"
      },
      "source": [
        "data=pd.read_csv('/content/training.1600000.processed.noemoticon.csv',header = None ,engine='python',sep=',',error_bad_lines=False,encoding='latin-1')\r\n",
        "data.shape\r\n",
        "data.head()"
      ],
      "execution_count": 9,
      "outputs": [
        {
          "output_type": "execute_result",
          "data": {
            "text/html": [
              "<div>\n",
              "<style scoped>\n",
              "    .dataframe tbody tr th:only-of-type {\n",
              "        vertical-align: middle;\n",
              "    }\n",
              "\n",
              "    .dataframe tbody tr th {\n",
              "        vertical-align: top;\n",
              "    }\n",
              "\n",
              "    .dataframe thead th {\n",
              "        text-align: right;\n",
              "    }\n",
              "</style>\n",
              "<table border=\"1\" class=\"dataframe\">\n",
              "  <thead>\n",
              "    <tr style=\"text-align: right;\">\n",
              "      <th></th>\n",
              "      <th>0</th>\n",
              "      <th>1</th>\n",
              "      <th>2</th>\n",
              "      <th>3</th>\n",
              "      <th>4</th>\n",
              "      <th>5</th>\n",
              "    </tr>\n",
              "  </thead>\n",
              "  <tbody>\n",
              "    <tr>\n",
              "      <th>0</th>\n",
              "      <td>0</td>\n",
              "      <td>1467810369</td>\n",
              "      <td>Mon Apr 06 22:19:45 PDT 2009</td>\n",
              "      <td>NO_QUERY</td>\n",
              "      <td>_TheSpecialOne_</td>\n",
              "      <td>@switchfoot http://twitpic.com/2y1zl - Awww, t...</td>\n",
              "    </tr>\n",
              "    <tr>\n",
              "      <th>1</th>\n",
              "      <td>0</td>\n",
              "      <td>1467810672</td>\n",
              "      <td>Mon Apr 06 22:19:49 PDT 2009</td>\n",
              "      <td>NO_QUERY</td>\n",
              "      <td>scotthamilton</td>\n",
              "      <td>is upset that he can't update his Facebook by ...</td>\n",
              "    </tr>\n",
              "    <tr>\n",
              "      <th>2</th>\n",
              "      <td>0</td>\n",
              "      <td>1467810917</td>\n",
              "      <td>Mon Apr 06 22:19:53 PDT 2009</td>\n",
              "      <td>NO_QUERY</td>\n",
              "      <td>mattycus</td>\n",
              "      <td>@Kenichan I dived many times for the ball. Man...</td>\n",
              "    </tr>\n",
              "    <tr>\n",
              "      <th>3</th>\n",
              "      <td>0</td>\n",
              "      <td>1467811184</td>\n",
              "      <td>Mon Apr 06 22:19:57 PDT 2009</td>\n",
              "      <td>NO_QUERY</td>\n",
              "      <td>ElleCTF</td>\n",
              "      <td>my whole body feels itchy and like its on fire</td>\n",
              "    </tr>\n",
              "    <tr>\n",
              "      <th>4</th>\n",
              "      <td>0</td>\n",
              "      <td>1467811193</td>\n",
              "      <td>Mon Apr 06 22:19:57 PDT 2009</td>\n",
              "      <td>NO_QUERY</td>\n",
              "      <td>Karoli</td>\n",
              "      <td>@nationwideclass no, it's not behaving at all....</td>\n",
              "    </tr>\n",
              "  </tbody>\n",
              "</table>\n",
              "</div>"
            ],
            "text/plain": [
              "   0  ...                                                  5\n",
              "0  0  ...  @switchfoot http://twitpic.com/2y1zl - Awww, t...\n",
              "1  0  ...  is upset that he can't update his Facebook by ...\n",
              "2  0  ...  @Kenichan I dived many times for the ball. Man...\n",
              "3  0  ...    my whole body feels itchy and like its on fire \n",
              "4  0  ...  @nationwideclass no, it's not behaving at all....\n",
              "\n",
              "[5 rows x 6 columns]"
            ]
          },
          "metadata": {
            "tags": []
          },
          "execution_count": 9
        }
      ]
    },
    {
      "cell_type": "code",
      "metadata": {
        "colab": {
          "base_uri": "https://localhost:8080/"
        },
        "id": "mWH68eN8RYpa",
        "outputId": "2d5a3abf-148c-440d-a4c6-ec0244a9b0a2"
      },
      "source": [
        "data.shape"
      ],
      "execution_count": 10,
      "outputs": [
        {
          "output_type": "execute_result",
          "data": {
            "text/plain": [
              "(1600000, 6)"
            ]
          },
          "metadata": {
            "tags": []
          },
          "execution_count": 10
        }
      ]
    },
    {
      "cell_type": "code",
      "metadata": {
        "id": "g7VM57qzTbKp"
      },
      "source": [
        "data.columns\r\n",
        "data.columns = ['A', 'B','C','D','E','F']\r\n"
      ],
      "execution_count": 11,
      "outputs": []
    },
    {
      "cell_type": "code",
      "metadata": {
        "id": "f0keR6GOAF8_"
      },
      "source": [
        "#relabelisation des valeurs de polarité\r\n",
        "data.loc[data[\"A\"] == 4,\"A\"] = 1\r\n",
        "data.loc[data[\"A\"] == 0,\"A\"] = 0"
      ],
      "execution_count": 12,
      "outputs": []
    },
    {
      "cell_type": "code",
      "metadata": {
        "colab": {
          "base_uri": "https://localhost:8080/"
        },
        "id": "qisLD0XQArRZ",
        "outputId": "4f032581-2146-41d0-c2d9-8f2cc098a8e8"
      },
      "source": [
        "df=data[['A','F']]\r\n",
        "df.columns=['polarité','phrases']\r\n",
        "df.head()\r\n",
        "df.polarité.value_counts()"
      ],
      "execution_count": 13,
      "outputs": [
        {
          "output_type": "execute_result",
          "data": {
            "text/plain": [
              "1    800000\n",
              "0    800000\n",
              "Name: polarité, dtype: int64"
            ]
          },
          "metadata": {
            "tags": []
          },
          "execution_count": 13
        }
      ]
    },
    {
      "cell_type": "code",
      "metadata": {
        "colab": {
          "base_uri": "https://localhost:8080/",
          "height": 206
        },
        "id": "mOSGRaxBcdhf",
        "outputId": "89f73587-b34e-4f93-fd8e-4896259e77d4"
      },
      "source": [
        "df.head()\r\n"
      ],
      "execution_count": 14,
      "outputs": [
        {
          "output_type": "execute_result",
          "data": {
            "text/html": [
              "<div>\n",
              "<style scoped>\n",
              "    .dataframe tbody tr th:only-of-type {\n",
              "        vertical-align: middle;\n",
              "    }\n",
              "\n",
              "    .dataframe tbody tr th {\n",
              "        vertical-align: top;\n",
              "    }\n",
              "\n",
              "    .dataframe thead th {\n",
              "        text-align: right;\n",
              "    }\n",
              "</style>\n",
              "<table border=\"1\" class=\"dataframe\">\n",
              "  <thead>\n",
              "    <tr style=\"text-align: right;\">\n",
              "      <th></th>\n",
              "      <th>polarité</th>\n",
              "      <th>phrases</th>\n",
              "    </tr>\n",
              "  </thead>\n",
              "  <tbody>\n",
              "    <tr>\n",
              "      <th>0</th>\n",
              "      <td>0</td>\n",
              "      <td>@switchfoot http://twitpic.com/2y1zl - Awww, t...</td>\n",
              "    </tr>\n",
              "    <tr>\n",
              "      <th>1</th>\n",
              "      <td>0</td>\n",
              "      <td>is upset that he can't update his Facebook by ...</td>\n",
              "    </tr>\n",
              "    <tr>\n",
              "      <th>2</th>\n",
              "      <td>0</td>\n",
              "      <td>@Kenichan I dived many times for the ball. Man...</td>\n",
              "    </tr>\n",
              "    <tr>\n",
              "      <th>3</th>\n",
              "      <td>0</td>\n",
              "      <td>my whole body feels itchy and like its on fire</td>\n",
              "    </tr>\n",
              "    <tr>\n",
              "      <th>4</th>\n",
              "      <td>0</td>\n",
              "      <td>@nationwideclass no, it's not behaving at all....</td>\n",
              "    </tr>\n",
              "  </tbody>\n",
              "</table>\n",
              "</div>"
            ],
            "text/plain": [
              "   polarité                                            phrases\n",
              "0         0  @switchfoot http://twitpic.com/2y1zl - Awww, t...\n",
              "1         0  is upset that he can't update his Facebook by ...\n",
              "2         0  @Kenichan I dived many times for the ball. Man...\n",
              "3         0    my whole body feels itchy and like its on fire \n",
              "4         0  @nationwideclass no, it's not behaving at all...."
            ]
          },
          "metadata": {
            "tags": []
          },
          "execution_count": 14
        }
      ]
    },
    {
      "cell_type": "code",
      "metadata": {
        "colab": {
          "base_uri": "https://localhost:8080/",
          "height": 280
        },
        "id": "JnF-qUWQPd_S",
        "outputId": "d5ffb8a7-381a-4e89-e27e-75d235399c3d"
      },
      "source": [
        "df.polarité.value_counts().plot.bar()\r\n",
        "#df.value_counts()"
      ],
      "execution_count": 15,
      "outputs": [
        {
          "output_type": "execute_result",
          "data": {
            "text/plain": [
              "<matplotlib.axes._subplots.AxesSubplot at 0x7f9706d80940>"
            ]
          },
          "metadata": {
            "tags": []
          },
          "execution_count": 15
        },
        {
          "output_type": "display_data",
          "data": {
            "image/png": "[encoded data removed]",
            "text/plain": [
              "<Figure size 432x288 with 1 Axes>"
            ]
          },
          "metadata": {
            "tags": [],
            "needs_background": "light"
          }
        }
      ]
    },
    {
      "cell_type": "code",
      "metadata": {
        "id": "MMyCYWeim7eb"
      },
      "source": [
        ""
      ],
      "execution_count": 9,
      "outputs": []
    },
    {
      "cell_type": "code",
      "metadata": {
        "colab": {
          "base_uri": "https://localhost:8080/"
        },
        "id": "PuDK-G7am7hV",
        "outputId": "3ef96071-17da-4169-9230-81d2cf815b7e"
      },
      "source": [
        "tweet_pos=df[df['polarité']==1].phrases\r\n",
        "tweet_pos_140k=tweet_pos[:140000]\r\n",
        "print(tweet_pos_140k[0:3]) \r\n",
        "#tweet_pos_75k.describe()\r\n",
        "len(tweet_neut_140k)"
      ],
      "execution_count": 32,
      "outputs": [
        {
          "output_type": "stream",
          "text": [
            "800000         I LOVE @Health4UandPets u guys r the best!! \n",
            "800001    im meeting up with one of my besties tonight! ...\n",
            "800002    @DaRealSunisaKim Thanks for the Twitter add, S...\n",
            "Name: phrases, dtype: object\n"
          ],
          "name": "stdout"
        },
        {
          "output_type": "execute_result",
          "data": {
            "text/plain": [
              "140000"
            ]
          },
          "metadata": {
            "tags": []
          },
          "execution_count": 32
        }
      ]
    },
    {
      "cell_type": "code",
      "metadata": {
        "colab": {
          "base_uri": "https://localhost:8080/"
        },
        "id": "8yuIDipN4w4D",
        "outputId": "fd30e99f-53c2-4480-bf09-713935603ed6"
      },
      "source": [
        "tweet_neg=df[df['polarité']==0].phrases\r\n",
        "tweet_neg_140k=tweet_neg[:140000]\r\n",
        "#print(tweet_neg_100k.loc) \r\n",
        "print(tweet_neg_140k[:2])\r\n",
        "tweet_neg_140k.shape"
      ],
      "execution_count": 20,
      "outputs": [
        {
          "output_type": "stream",
          "text": [
            "0    @switchfoot http://twitpic.com/2y1zl - Awww, t...\n",
            "1    is upset that he can't update his Facebook by ...\n",
            "Name: phrases, dtype: object\n"
          ],
          "name": "stdout"
        },
        {
          "output_type": "execute_result",
          "data": {
            "text/plain": [
              "(140000,)"
            ]
          },
          "metadata": {
            "tags": []
          },
          "execution_count": 20
        }
      ]
    },
    {
      "cell_type": "code",
      "metadata": {
        "colab": {
          "base_uri": "https://localhost:8080/"
        },
        "id": "7MpUPiATIidS",
        "outputId": "fec7afeb-7144-4694-fc35-79a50030a7e4"
      },
      "source": [
        "tweet_neut=p[p['overall']==3]['reviewText']\r\n",
        "tweet_neut_140k=tweet_neut[:140000]\r\n",
        "print(len (tweet_neut_140k))\r\n",
        "print(tweet_neut_140k[:2])"
      ],
      "execution_count": 33,
      "outputs": [
        {
          "output_type": "stream",
          "text": [
            "140000\n",
            "2     Well, what can I say.  I've had this unit in m...\n",
            "13    This is a good beefy 2 amp charger, but it cov...\n",
            "Name: reviewText, dtype: object\n"
          ],
          "name": "stdout"
        }
      ]
    },
    {
      "cell_type": "code",
      "metadata": {
        "id": "ARs0v7NrAnS9"
      },
      "source": [
        ""
      ],
      "execution_count": null,
      "outputs": []
    },
    {
      "cell_type": "code",
      "metadata": {
        "colab": {
          "base_uri": "https://localhost:8080/"
        },
        "id": "suEOoLMtm7kP",
        "outputId": "7404e8c4-ccec-4f00-8ced-4f9be28a06c8"
      },
      "source": [
        "import re\r\n",
        "#re.split(\"\\n\",str(tweet_neg_75k))\r\n",
        "#str(tweet_neg_75k)"
      ],
      "execution_count": 48,
      "outputs": [
        {
          "output_type": "execute_result",
          "data": {
            "text/plain": [
              "['0        @switchfoot http://twitpic.com/2y1zl - Awww, t...',\n",
              " \"1        is upset that he can't update his Facebook by ...\",\n",
              " '2        @Kenichan I dived many times for the ball. Man...',\n",
              " '3          my whole body feels itchy and like its on fire ',\n",
              " \"4        @nationwideclass no, it's not behaving at all....\",\n",
              " '                               ...                        ',\n",
              " '74995                    is wasting away the bank holiday ',\n",
              " '74996    got an A in english again  yay..  but a D- in ...',\n",
              " '74997    The office is sooo quiet, I feel sooo lonely, ...',\n",
              " '74998    Boohoo to my teams (miami and chicago) being e...',\n",
              " '74999    wishing i was in LA right now. also trying to ...',\n",
              " 'Name: phrases, Length: 75000, dtype: object']"
            ]
          },
          "metadata": {
            "tags": []
          },
          "execution_count": 48
        }
      ]
    },
    {
      "cell_type": "code",
      "metadata": {
        "id": "WyXWJODxCrR1"
      },
      "source": [
        ""
      ],
      "execution_count": 12,
      "outputs": []
    },
    {
      "cell_type": "markdown",
      "metadata": {
        "id": "juZx7psuCxpC"
      },
      "source": [
        ""
      ]
    },
    {
      "cell_type": "code",
      "metadata": {
        "id": "YHm1d_bhCrVL"
      },
      "source": [
        "#fonction Removing URL \r\n",
        "def remove_url(tweet):\r\n",
        "  \"\"\"remove html tags from tex,#output type=str#\"\"\"\r\n",
        "  import re \r\n",
        "  print (\"succes!!! ,les tags et sites ont été  enlevés !!!\")\r\n",
        "  return re.sub(r'http\\S+','',tweet)"
      ],
      "execution_count": 15,
      "outputs": []
    },
    {
      "cell_type": "code",
      "metadata": {
        "colab": {
          "base_uri": "https://localhost:8080/"
        },
        "id": "JVaxMM9RCrYd",
        "outputId": "f369a91d-9ece-46c3-93cf-7de6cdd20e88"
      },
      "source": [
        "tweet_neg1 =remove_url(str(tweet_neg_75k))\r\n",
        "tweet_pos1 =remove_url(str(tweet_pos_75k))\r\n",
        "#tweet_neut1 =remove_url(list(tweet_pos_75k.values.flatten()))\r\n",
        "\r\n",
        "len(tweet_neg1)"
      ],
      "execution_count": 23,
      "outputs": [
        {
          "output_type": "stream",
          "text": [
            "succes!!! ,les tags et sites ont été  enlevés !!!\n",
            "succes!!! ,les tags et sites ont été  enlevés !!!\n"
          ],
          "name": "stdout"
        },
        {
          "output_type": "execute_result",
          "data": {
            "text/plain": [
              "668"
            ]
          },
          "metadata": {
            "tags": []
          },
          "execution_count": 23
        }
      ]
    },
    {
      "cell_type": "code",
      "metadata": {
        "id": "cpg47a7Hu5kZ"
      },
      "source": [
        "pip install contractions"
      ],
      "execution_count": null,
      "outputs": []
    },
    {
      "cell_type": "code",
      "metadata": {
        "id": "YMN9SfHBUVEh"
      },
      "source": [
        "#fonction Removing URL \r\n",
        "def data_cleaning(tweet):\r\n",
        "  \"\"\"1-remove html tags from tex,#output type=str#\r\n",
        "     2-expand shortened words, e.g. don't to do not\r\n",
        "     3-Removing all irrelevant characters (Numbers and Punctuation)[!”#$%&’()*+,-./:;<=>?@[\\]^_`{|}~]\r\n",
        "     4-Convert all characters into lowercase\r\n",
        "     5-remove accented characters from text, e.g. café\r\n",
        "     6- \"\"\"\r\n",
        "  import re \r\n",
        "  #from word2number import w2n\r\n",
        "  import contractions\r\n",
        "  import nltk\r\n",
        "  from unidecode import unidecode\r\n",
        "  from nltk.corpus import stopwords\r\n",
        "  #tweet=list(tweet.values.flatten())\r\n",
        "  tweet=re.sub(r'http\\S+',' ',str(tweet))\r\n",
        "  print (\"succes!!! ,les tags et sites ont été  enlevés !!!\")\r\n",
        "  #tweet = contractions.fix(tweet)\r\n",
        "  print (\"succes!!! ,les formes contractées ont été etendues!!!\")\r\n",
        "  #tweet=re.sub('[^a-zA-Z]',' ',tweet)\r\n",
        "  print (\"succes!!! ,les caracteres inconvenus ont été  enlevés !!!\")\r\n",
        "  #tweet=tweet.lower()\r\n",
        "  print (\"succes!!! ,les caracteres sont en miniscules !!!\") \r\n",
        "  #tweet = unidecode(tweet)\r\n",
        "  print (\"succes!!! ,les caracteres accents ont été  enlevés !!!\")\r\n",
        "\r\n",
        "  return tweet"
      ],
      "execution_count": 20,
      "outputs": []
    },
    {
      "cell_type": "code",
      "metadata": {
        "id": "UoqDYK82oXuE"
      },
      "source": [
        "#pip install contractions\r\n",
        "list(tweet_neg_75k)"
      ],
      "execution_count": null,
      "outputs": []
    },
    {
      "cell_type": "code",
      "metadata": {
        "id": "sHBWalyitt9b"
      },
      "source": [
        "str1 = ''.join(str(e) for e in list(tweet_pos_75k.values.flatten()))\r\n",
        "#len(list(tweet_pos_75k.values.flatten()))\r\n",
        "str1"
      ],
      "execution_count": null,
      "outputs": []
    },
    {
      "cell_type": "code",
      "metadata": {
        "colab": {
          "base_uri": "https://localhost:8080/"
        },
        "id": "zxtbRmQNlicT",
        "outputId": "343947e4-6154-492b-f33a-59496ddb1e15"
      },
      "source": [
        "a=data_cleaning(tweet_pos_75k)\r\n",
        "len(a)"
      ],
      "execution_count": 21,
      "outputs": [
        {
          "output_type": "stream",
          "text": [
            "succes!!! ,les tags et sites ont été  enlevés !!!\n",
            "succes!!! ,les formes contractées ont été etendues!!!\n",
            "succes!!! ,les caracteres inconvenus ont été  enlevés !!!\n",
            "succes!!! ,les caracteres sont en miniscules !!!\n",
            "succes!!! ,les caracteres accents ont été  enlevés !!!\n"
          ],
          "name": "stdout"
        },
        {
          "output_type": "execute_result",
          "data": {
            "text/plain": [
              "703"
            ]
          },
          "metadata": {
            "tags": []
          },
          "execution_count": 21
        }
      ]
    },
    {
      "cell_type": "code",
      "metadata": {
        "id": "CqheloVPUVra"
      },
      "source": [
        "#fonction irrelevant characters \r\n",
        "def remove_url(tweet):\r\n",
        "  \"\"\"Removing all irrelevant characters (Numbers and Punctuation)\r\n",
        "  [!”#$%&’()*+,-./:;<=>?@[\\]^_`{|}~]\"\"\"\r\n",
        "  import re\r\n",
        "  print (\"succes!!! ,les tags et sites ont été  enlevés !!!\")\r\n",
        "  return re.sub('[^a-zA-Z]','',tweet)\r\n"
      ],
      "execution_count": null,
      "outputs": []
    },
    {
      "cell_type": "code",
      "metadata": {
        "colab": {
          "base_uri": "https://localhost:8080/"
        },
        "id": "hv6RsCiddHsd",
        "outputId": "dd1f0843-1679-45f1-c2be-8869dcca651e"
      },
      "source": [
        "import nltk\r\n",
        "from nltk.corpus import stopwords\r\n",
        "nltk.download('stopwords')\r\n",
        "print(stopwords.words('english'))\r\n",
        "\r\n",
        "stop_words = set(stopwords.words('english'))  "
      ],
      "execution_count": 52,
      "outputs": [
        {
          "output_type": "stream",
          "text": [
            "[nltk_data] Downloading package stopwords to /root/nltk_data...\n",
            "[nltk_data]   Unzipping corpora/stopwords.zip.\n",
            "['i', 'me', 'my', 'myself', 'we', 'our', 'ours', 'ourselves', 'you', \"you're\", \"you've\", \"you'll\", \"you'd\", 'your', 'yours', 'yourself', 'yourselves', 'he', 'him', 'his', 'himself', 'she', \"she's\", 'her', 'hers', 'herself', 'it', \"it's\", 'its', 'itself', 'they', 'them', 'their', 'theirs', 'themselves', 'what', 'which', 'who', 'whom', 'this', 'that', \"that'll\", 'these', 'those', 'am', 'is', 'are', 'was', 'were', 'be', 'been', 'being', 'have', 'has', 'had', 'having', 'do', 'does', 'did', 'doing', 'a', 'an', 'the', 'and', 'but', 'if', 'or', 'because', 'as', 'until', 'while', 'of', 'at', 'by', 'for', 'with', 'about', 'against', 'between', 'into', 'through', 'during', 'before', 'after', 'above', 'below', 'to', 'from', 'up', 'down', 'in', 'out', 'on', 'off', 'over', 'under', 'again', 'further', 'then', 'once', 'here', 'there', 'when', 'where', 'why', 'how', 'all', 'any', 'both', 'each', 'few', 'more', 'most', 'other', 'some', 'such', 'no', 'nor', 'not', 'only', 'own', 'same', 'so', 'than', 'too', 'very', 's', 't', 'can', 'will', 'just', 'don', \"don't\", 'should', \"should've\", 'now', 'd', 'll', 'm', 'o', 're', 've', 'y', 'ain', 'aren', \"aren't\", 'couldn', \"couldn't\", 'didn', \"didn't\", 'doesn', \"doesn't\", 'hadn', \"hadn't\", 'hasn', \"hasn't\", 'haven', \"haven't\", 'isn', \"isn't\", 'ma', 'mightn', \"mightn't\", 'mustn', \"mustn't\", 'needn', \"needn't\", 'shan', \"shan't\", 'shouldn', \"shouldn't\", 'wasn', \"wasn't\", 'weren', \"weren't\", 'won', \"won't\", 'wouldn', \"wouldn't\"]\n"
          ],
          "name": "stdout"
        }
      ]
    },
    {
      "cell_type": "code",
      "metadata": {
        "colab": {
          "base_uri": "https://localhost:8080/",
          "height": 352
        },
        "id": "SIZ1IwKDCrhj",
        "outputId": "9beb5a61-7659-47c2-96e6-8575c2e67bd6"
      },
      "source": [
        "#from word2number import w2n\r\n",
        "#print(tweet_neut_75k[:2])\r\n",
        "#[w2n.word_to_num(tweet_neut_75k[:2]) if token.pos_ == 'NUM' else token for token in tweet_neut_75k[:2]]\r\n"
      ],
      "execution_count": 50,
      "outputs": [
        {
          "output_type": "stream",
          "text": [
            "2     Well, what can I say.  I've had this unit in m...\n",
            "13    This is a good beefy 2 amp charger, but it cov...\n",
            "Name: reviewText, dtype: object\n"
          ],
          "name": "stdout"
        },
        {
          "output_type": "error",
          "ename": "AttributeError",
          "evalue": "ignored",
          "traceback": [
            "\u001b[0;31m---------------------------------------------------------------------------\u001b[0m",
            "\u001b[0;31mAttributeError\u001b[0m                            Traceback (most recent call last)",
            "\u001b[0;32m<ipython-input-50-f2b6b29e6599>\u001b[0m in \u001b[0;36m<module>\u001b[0;34m()\u001b[0m\n\u001b[1;32m      1\u001b[0m \u001b[0;32mfrom\u001b[0m \u001b[0mword2number\u001b[0m \u001b[0;32mimport\u001b[0m \u001b[0mw2n\u001b[0m\u001b[0;34m\u001b[0m\u001b[0;34m\u001b[0m\u001b[0m\n\u001b[1;32m      2\u001b[0m \u001b[0mprint\u001b[0m\u001b[0;34m(\u001b[0m\u001b[0mtweet_neut_75k\u001b[0m\u001b[0;34m[\u001b[0m\u001b[0;34m:\u001b[0m\u001b[0;36m2\u001b[0m\u001b[0;34m]\u001b[0m\u001b[0;34m)\u001b[0m\u001b[0;34m\u001b[0m\u001b[0;34m\u001b[0m\u001b[0m\n\u001b[0;32m----> 3\u001b[0;31m \u001b[0;34m[\u001b[0m\u001b[0mw2n\u001b[0m\u001b[0;34m.\u001b[0m\u001b[0mword_to_num\u001b[0m\u001b[0;34m(\u001b[0m\u001b[0mtweet_neut_75k\u001b[0m\u001b[0;34m[\u001b[0m\u001b[0;34m:\u001b[0m\u001b[0;36m2\u001b[0m\u001b[0;34m]\u001b[0m\u001b[0;34m)\u001b[0m \u001b[0;32mif\u001b[0m \u001b[0mtoken\u001b[0m\u001b[0;34m.\u001b[0m\u001b[0mpos_\u001b[0m \u001b[0;34m==\u001b[0m \u001b[0;34m'NUM'\u001b[0m \u001b[0;32melse\u001b[0m \u001b[0mtoken\u001b[0m \u001b[0;32mfor\u001b[0m \u001b[0mtoken\u001b[0m \u001b[0;32min\u001b[0m \u001b[0mtweet_neut_75k\u001b[0m\u001b[0;34m[\u001b[0m\u001b[0;34m:\u001b[0m\u001b[0;36m2\u001b[0m\u001b[0;34m]\u001b[0m\u001b[0;34m]\u001b[0m\u001b[0;34m\u001b[0m\u001b[0;34m\u001b[0m\u001b[0m\n\u001b[0m",
            "\u001b[0;32m<ipython-input-50-f2b6b29e6599>\u001b[0m in \u001b[0;36m<listcomp>\u001b[0;34m(.0)\u001b[0m\n\u001b[1;32m      1\u001b[0m \u001b[0;32mfrom\u001b[0m \u001b[0mword2number\u001b[0m \u001b[0;32mimport\u001b[0m \u001b[0mw2n\u001b[0m\u001b[0;34m\u001b[0m\u001b[0;34m\u001b[0m\u001b[0m\n\u001b[1;32m      2\u001b[0m \u001b[0mprint\u001b[0m\u001b[0;34m(\u001b[0m\u001b[0mtweet_neut_75k\u001b[0m\u001b[0;34m[\u001b[0m\u001b[0;34m:\u001b[0m\u001b[0;36m2\u001b[0m\u001b[0;34m]\u001b[0m\u001b[0;34m)\u001b[0m\u001b[0;34m\u001b[0m\u001b[0;34m\u001b[0m\u001b[0m\n\u001b[0;32m----> 3\u001b[0;31m \u001b[0;34m[\u001b[0m\u001b[0mw2n\u001b[0m\u001b[0;34m.\u001b[0m\u001b[0mword_to_num\u001b[0m\u001b[0;34m(\u001b[0m\u001b[0mtweet_neut_75k\u001b[0m\u001b[0;34m[\u001b[0m\u001b[0;34m:\u001b[0m\u001b[0;36m2\u001b[0m\u001b[0;34m]\u001b[0m\u001b[0;34m)\u001b[0m \u001b[0;32mif\u001b[0m \u001b[0mtoken\u001b[0m\u001b[0;34m.\u001b[0m\u001b[0mpos_\u001b[0m \u001b[0;34m==\u001b[0m \u001b[0;34m'NUM'\u001b[0m \u001b[0;32melse\u001b[0m \u001b[0mtoken\u001b[0m \u001b[0;32mfor\u001b[0m \u001b[0mtoken\u001b[0m \u001b[0;32min\u001b[0m \u001b[0mtweet_neut_75k\u001b[0m\u001b[0;34m[\u001b[0m\u001b[0;34m:\u001b[0m\u001b[0;36m2\u001b[0m\u001b[0;34m]\u001b[0m\u001b[0;34m]\u001b[0m\u001b[0;34m\u001b[0m\u001b[0;34m\u001b[0m\u001b[0m\n\u001b[0m",
            "\u001b[0;31mAttributeError\u001b[0m: 'str' object has no attribute 'pos_'"
          ]
        }
      ]
    },
    {
      "cell_type": "markdown",
      "metadata": {
        "id": "KKS9F1-NCPoz"
      },
      "source": [
        "# tokenisation"
      ]
    },
    {
      "cell_type": "code",
      "metadata": {
        "id": "OYTCcF2oQxgX"
      },
      "source": [
        "#tokenisation\r\n",
        "\r\n",
        "def tokeniser(text):\r\n",
        "  \"'fonction pour tokeniser nos tweets'\"\r\n",
        "  import nltk\r\n",
        "  tok=[]\r\n",
        "  for tweet in text:\r\n",
        "    tok.append(nltk.tokenize.TreebankWordTokenizer().tokenize(str(tweet)))\r\n",
        "  print (type(tok))\r\n",
        "  print ('tokenisation reussie !!!,\\nle fichier a une longueur de : {} tokens, \\nle premier token est:\\n {}'.format(len(tok),tok[:1]))\r\n",
        "  return tok\r\n",
        "\r\n"
      ],
      "execution_count": 15,
      "outputs": []
    },
    {
      "cell_type": "code",
      "metadata": {
        "colab": {
          "base_uri": "https://localhost:8080/"
        },
        "id": "JtoxpEjZ57Mw",
        "outputId": "e8b3adbe-4dd4-4adb-a063-cf8576adab00"
      },
      "source": [
        "token_pos=tokeniser(tweet_pos_75k)\r\n"
      ],
      "execution_count": 16,
      "outputs": [
        {
          "output_type": "stream",
          "text": [
            "<class 'list'>\n",
            "tokenisation reussie !!!,\n",
            "le fichier a une longueur de : 75000 tokens, \n",
            "le premier token est:\n",
            " [['I', 'LOVE', '@', 'Health4UandPets', 'u', 'guys', 'r', 'the', 'best', '!', '!']]\n"
          ],
          "name": "stdout"
        }
      ]
    },
    {
      "cell_type": "code",
      "metadata": {
        "colab": {
          "base_uri": "https://localhost:8080/"
        },
        "id": "90fX2A1T6nGH",
        "outputId": "10dcc844-3b34-4462-d338-f724bd2dee09"
      },
      "source": [
        "token_neg=tokeniser(tweet_neg_75k)"
      ],
      "execution_count": 17,
      "outputs": [
        {
          "output_type": "stream",
          "text": [
            "<class 'list'>\n",
            "tokenisation reussie !!!,\n",
            "le fichier a une longueur de : 75000 tokens, \n",
            "le premier token est:\n",
            " [['@', 'switchfoot', 'http', ':', '//twitpic.com/2y1zl', '-', 'Awww', ',', 'that', \"'s\", 'a', 'bummer.', 'You', 'shoulda', 'got', 'David', 'Carr', 'of', 'Third', 'Day', 'to', 'do', 'it.', ';', 'D']]\n"
          ],
          "name": "stdout"
        }
      ]
    },
    {
      "cell_type": "code",
      "metadata": {
        "id": "XAL7ikStm7nE"
      },
      "source": [
        ""
      ],
      "execution_count": 17,
      "outputs": []
    },
    {
      "cell_type": "code",
      "metadata": {
        "id": "EPtfqPjL4JOP"
      },
      "source": [
        ""
      ],
      "execution_count": 17,
      "outputs": []
    },
    {
      "cell_type": "code",
      "metadata": {
        "id": "DQoWmX594I3r"
      },
      "source": [
        ""
      ],
      "execution_count": 17,
      "outputs": []
    },
    {
      "cell_type": "code",
      "metadata": {
        "id": "5ezDIxXf4Ij7"
      },
      "source": [
        ""
      ],
      "execution_count": 17,
      "outputs": []
    },
    {
      "cell_type": "code",
      "metadata": {
        "id": "gs90mxj5BZ5E"
      },
      "source": [
        "#tweet_neg_140k.to_csv('/content/tweet_neg.csv', sep = ',')"
      ],
      "execution_count": 1,
      "outputs": []
    },
    {
      "cell_type": "code",
      "metadata": {
        "id": "u_wY3cPhhTMS"
      },
      "source": [
        "#tweet_pos_140k.to_csv('/content/tweet_pos.csv', sep = ',')"
      ],
      "execution_count": 2,
      "outputs": []
    },
    {
      "cell_type": "code",
      "metadata": {
        "id": "BLqgHPd8hUIR"
      },
      "source": [
        "#tweet_neut_140k.to_csv('/content/tweet_neut.csv', sep = ',')"
      ],
      "execution_count": 3,
      "outputs": []
    },
    {
      "cell_type": "code",
      "metadata": {
        "id": "Cblpvi_5RJPq"
      },
      "source": [
        "import pandas as pd"
      ],
      "execution_count": 1,
      "outputs": []
    },
    {
      "cell_type": "code",
      "metadata": {
        "id": "-BxWTwzSRJdS"
      },
      "source": [
        ""
      ],
      "execution_count": null,
      "outputs": []
    },
    {
      "cell_type": "code",
      "metadata": {
        "id": "7eAqS-KeRJgZ"
      },
      "source": [
        ""
      ],
      "execution_count": null,
      "outputs": []
    },
    {
      "cell_type": "code",
      "metadata": {
        "id": "pGQCODJjRJjH"
      },
      "source": [
        ""
      ],
      "execution_count": null,
      "outputs": []
    },
    {
      "cell_type": "code",
      "metadata": {
        "id": "2qyImS70RJmP"
      },
      "source": [
        ""
      ],
      "execution_count": null,
      "outputs": []
    },
    {
      "cell_type": "code",
      "metadata": {
        "id": "DlvmGqMoRJpB"
      },
      "source": [
        ""
      ],
      "execution_count": null,
      "outputs": []
    },
    {
      "cell_type": "code",
      "metadata": {
        "id": "0x8JQhmoRJr9"
      },
      "source": [
        ""
      ],
      "execution_count": null,
      "outputs": []
    },
    {
      "cell_type": "code",
      "metadata": {
        "id": "SdVS2aEARJu4"
      },
      "source": [
        "tw_neg=pd.read_csv('/content/tweet_neg.csv',sep=',',header=None,skiprows = [0],usecols = [1])\r\n",
        "tw_pos=pd.read_csv('/content/tweet_pos.csv',sep=',',header=None,skiprows = [0],usecols = [1])\r\n",
        "tw_neu=pd.read_csv('/content/tweet_neut.csv',sep=',',header=None,skiprows = [0],usecols = [1])\r\n",
        "tw=pd.read_csv('/content/df_tweet.csv',sep=',')"
      ],
      "execution_count": 16,
      "outputs": []
    },
    {
      "cell_type": "code",
      "metadata": {
        "colab": {
          "base_uri": "https://localhost:8080/",
          "height": 424
        },
        "id": "CC6t-fAFo7yJ",
        "outputId": "b3365136-13da-4fa7-c4c5-6e5d917fd01f"
      },
      "source": [
        "tw\r\n"
      ],
      "execution_count": 17,
      "outputs": [
        {
          "output_type": "execute_result",
          "data": {
            "text/html": [
              "<div>\n",
              "<style scoped>\n",
              "    .dataframe tbody tr th:only-of-type {\n",
              "        vertical-align: middle;\n",
              "    }\n",
              "\n",
              "    .dataframe tbody tr th {\n",
              "        vertical-align: top;\n",
              "    }\n",
              "\n",
              "    .dataframe thead th {\n",
              "        text-align: right;\n",
              "    }\n",
              "</style>\n",
              "<table border=\"1\" class=\"dataframe\">\n",
              "  <thead>\n",
              "    <tr style=\"text-align: right;\">\n",
              "      <th></th>\n",
              "      <th>Unnamed: 0</th>\n",
              "      <th>tweets</th>\n",
              "      <th>polarité</th>\n",
              "    </tr>\n",
              "  </thead>\n",
              "  <tbody>\n",
              "    <tr>\n",
              "      <th>0</th>\n",
              "      <td>0</td>\n",
              "      <td>@switchfoot http://twitpic.com/2y1zl - Awww, t...</td>\n",
              "      <td>0</td>\n",
              "    </tr>\n",
              "    <tr>\n",
              "      <th>1</th>\n",
              "      <td>1</td>\n",
              "      <td>is upset that he can't update his Facebook by ...</td>\n",
              "      <td>0</td>\n",
              "    </tr>\n",
              "    <tr>\n",
              "      <th>2</th>\n",
              "      <td>2</td>\n",
              "      <td>@Kenichan I dived many times for the ball. Man...</td>\n",
              "      <td>0</td>\n",
              "    </tr>\n",
              "    <tr>\n",
              "      <th>3</th>\n",
              "      <td>3</td>\n",
              "      <td>my whole body feels itchy and like its on fire</td>\n",
              "      <td>0</td>\n",
              "    </tr>\n",
              "    <tr>\n",
              "      <th>4</th>\n",
              "      <td>4</td>\n",
              "      <td>@nationwideclass no, it's not behaving at all....</td>\n",
              "      <td>0</td>\n",
              "    </tr>\n",
              "    <tr>\n",
              "      <th>...</th>\n",
              "      <td>...</td>\n",
              "      <td>...</td>\n",
              "      <td>...</td>\n",
              "    </tr>\n",
              "    <tr>\n",
              "      <th>419995</th>\n",
              "      <td>139995</td>\n",
              "      <td>Back from visiting Shaz at the hospital. Hope ...</td>\n",
              "      <td>2</td>\n",
              "    </tr>\n",
              "    <tr>\n",
              "      <th>419996</th>\n",
              "      <td>139996</td>\n",
              "      <td>@TomFelton Good luck today, I'll be thinking o...</td>\n",
              "      <td>2</td>\n",
              "    </tr>\n",
              "    <tr>\n",
              "      <th>419997</th>\n",
              "      <td>139997</td>\n",
              "      <td>i got my computer back last night so now i can...</td>\n",
              "      <td>2</td>\n",
              "    </tr>\n",
              "    <tr>\n",
              "      <th>419998</th>\n",
              "      <td>139998</td>\n",
              "      <td>just trying to find out how this Twitter-thing...</td>\n",
              "      <td>2</td>\n",
              "    </tr>\n",
              "    <tr>\n",
              "      <th>419999</th>\n",
              "      <td>139999</td>\n",
              "      <td>@foxandfriends What symbol will he have them c...</td>\n",
              "      <td>2</td>\n",
              "    </tr>\n",
              "  </tbody>\n",
              "</table>\n",
              "<p>420000 rows × 3 columns</p>\n",
              "</div>"
            ],
            "text/plain": [
              "        Unnamed: 0                                             tweets  polarité\n",
              "0                0  @switchfoot http://twitpic.com/2y1zl - Awww, t...         0\n",
              "1                1  is upset that he can't update his Facebook by ...         0\n",
              "2                2  @Kenichan I dived many times for the ball. Man...         0\n",
              "3                3    my whole body feels itchy and like its on fire          0\n",
              "4                4  @nationwideclass no, it's not behaving at all....         0\n",
              "...            ...                                                ...       ...\n",
              "419995      139995  Back from visiting Shaz at the hospital. Hope ...         2\n",
              "419996      139996  @TomFelton Good luck today, I'll be thinking o...         2\n",
              "419997      139997  i got my computer back last night so now i can...         2\n",
              "419998      139998  just trying to find out how this Twitter-thing...         2\n",
              "419999      139999  @foxandfriends What symbol will he have them c...         2\n",
              "\n",
              "[420000 rows x 3 columns]"
            ]
          },
          "metadata": {
            "tags": []
          },
          "execution_count": 17
        }
      ]
    },
    {
      "cell_type": "code",
      "metadata": {
        "colab": {
          "base_uri": "https://localhost:8080/",
          "height": 424
        },
        "id": "bW-puQIxpUfJ",
        "outputId": "ae66057d-3b77-4500-ade5-e075bbd701c7"
      },
      "source": [
        "tw.sample(420000,random_state=42)"
      ],
      "execution_count": 28,
      "outputs": [
        {
          "output_type": "execute_result",
          "data": {
            "text/html": [
              "<div>\n",
              "<style scoped>\n",
              "    .dataframe tbody tr th:only-of-type {\n",
              "        vertical-align: middle;\n",
              "    }\n",
              "\n",
              "    .dataframe tbody tr th {\n",
              "        vertical-align: top;\n",
              "    }\n",
              "\n",
              "    .dataframe thead th {\n",
              "        text-align: right;\n",
              "    }\n",
              "</style>\n",
              "<table border=\"1\" class=\"dataframe\">\n",
              "  <thead>\n",
              "    <tr style=\"text-align: right;\">\n",
              "      <th></th>\n",
              "      <th>Unnamed: 0</th>\n",
              "      <th>tweets</th>\n",
              "      <th>polarité</th>\n",
              "    </tr>\n",
              "  </thead>\n",
              "  <tbody>\n",
              "    <tr>\n",
              "      <th>92707</th>\n",
              "      <td>92707</td>\n",
              "      <td>noooooooo #familyforce5 is not on trending top...</td>\n",
              "      <td>0</td>\n",
              "    </tr>\n",
              "    <tr>\n",
              "      <th>363044</th>\n",
              "      <td>83044</td>\n",
              "      <td>Ricky Hatton fall at ROUND 2. woah I cant beli...</td>\n",
              "      <td>2</td>\n",
              "    </tr>\n",
              "    <tr>\n",
              "      <th>113946</th>\n",
              "      <td>113946</td>\n",
              "      <td>Lisa_Veronica: is soooo tired, why can't I eve...</td>\n",
              "      <td>0</td>\n",
              "    </tr>\n",
              "    <tr>\n",
              "      <th>265158</th>\n",
              "      <td>125158</td>\n",
              "      <td>While less expensive than what Apple charges f...</td>\n",
              "      <td>1</td>\n",
              "    </tr>\n",
              "    <tr>\n",
              "      <th>231137</th>\n",
              "      <td>91137</td>\n",
              "      <td>I wond up selling this lens to a person that h...</td>\n",
              "      <td>1</td>\n",
              "    </tr>\n",
              "    <tr>\n",
              "      <th>...</th>\n",
              "      <td>...</td>\n",
              "      <td>...</td>\n",
              "      <td>...</td>\n",
              "    </tr>\n",
              "    <tr>\n",
              "      <th>259178</th>\n",
              "      <td>119178</td>\n",
              "      <td>You have to consider a lot of things and I can...</td>\n",
              "      <td>1</td>\n",
              "    </tr>\n",
              "    <tr>\n",
              "      <th>365838</th>\n",
              "      <td>85838</td>\n",
              "      <td>New job, baby on the way, and house hunting ar...</td>\n",
              "      <td>2</td>\n",
              "    </tr>\n",
              "    <tr>\n",
              "      <th>131932</th>\n",
              "      <td>131932</td>\n",
              "      <td>@ProudGamerTweet I rather average 32370</td>\n",
              "      <td>0</td>\n",
              "    </tr>\n",
              "    <tr>\n",
              "      <th>146867</th>\n",
              "      <td>6867</td>\n",
              "      <td>These headphones have a few issues. First, the...</td>\n",
              "      <td>1</td>\n",
              "    </tr>\n",
              "    <tr>\n",
              "      <th>121958</th>\n",
              "      <td>121958</td>\n",
              "      <td>@ home studying for maths wooot ! im so going ...</td>\n",
              "      <td>0</td>\n",
              "    </tr>\n",
              "  </tbody>\n",
              "</table>\n",
              "<p>420000 rows × 3 columns</p>\n",
              "</div>"
            ],
            "text/plain": [
              "        Unnamed: 0                                             tweets  polarité\n",
              "92707        92707  noooooooo #familyforce5 is not on trending top...         0\n",
              "363044       83044  Ricky Hatton fall at ROUND 2. woah I cant beli...         2\n",
              "113946      113946  Lisa_Veronica: is soooo tired, why can't I eve...         0\n",
              "265158      125158  While less expensive than what Apple charges f...         1\n",
              "231137       91137  I wond up selling this lens to a person that h...         1\n",
              "...            ...                                                ...       ...\n",
              "259178      119178  You have to consider a lot of things and I can...         1\n",
              "365838       85838  New job, baby on the way, and house hunting ar...         2\n",
              "131932      131932           @ProudGamerTweet I rather average 32370          0\n",
              "146867        6867  These headphones have a few issues. First, the...         1\n",
              "121958      121958  @ home studying for maths wooot ! im so going ...         0\n",
              "\n",
              "[420000 rows x 3 columns]"
            ]
          },
          "metadata": {
            "tags": []
          },
          "execution_count": 28
        }
      ]
    },
    {
      "cell_type": "code",
      "metadata": {
        "colab": {
          "base_uri": "https://localhost:8080/",
          "height": 81
        },
        "id": "5S8tXWi0qk4k",
        "outputId": "c757d9c3-6e99-4364-c924-9d7f69be2801"
      },
      "source": [
        "df_tweet=tw.sample(420000,random_state=42)\r\n",
        "                  df_tweet[:1]"
      ],
      "execution_count": 42,
      "outputs": [
        {
          "output_type": "execute_result",
          "data": {
            "text/html": [
              "<div>\n",
              "<style scoped>\n",
              "    .dataframe tbody tr th:only-of-type {\n",
              "        vertical-align: middle;\n",
              "    }\n",
              "\n",
              "    .dataframe tbody tr th {\n",
              "        vertical-align: top;\n",
              "    }\n",
              "\n",
              "    .dataframe thead th {\n",
              "        text-align: right;\n",
              "    }\n",
              "</style>\n",
              "<table border=\"1\" class=\"dataframe\">\n",
              "  <thead>\n",
              "    <tr style=\"text-align: right;\">\n",
              "      <th></th>\n",
              "      <th>Unnamed: 0</th>\n",
              "      <th>tweets</th>\n",
              "      <th>polarité</th>\n",
              "    </tr>\n",
              "  </thead>\n",
              "  <tbody>\n",
              "    <tr>\n",
              "      <th>92707</th>\n",
              "      <td>92707</td>\n",
              "      <td>noooooooo #familyforce5 is not on trending top...</td>\n",
              "      <td>0</td>\n",
              "    </tr>\n",
              "  </tbody>\n",
              "</table>\n",
              "</div>"
            ],
            "text/plain": [
              "       Unnamed: 0                                             tweets  polarité\n",
              "92707       92707  noooooooo #familyforce5 is not on trending top...         0"
            ]
          },
          "metadata": {
            "tags": []
          },
          "execution_count": 42
        }
      ]
    },
    {
      "cell_type": "code",
      "metadata": {
        "id": "pDv8LHRIRJxq"
      },
      "source": [
        "tw_neg"
      ],
      "execution_count": null,
      "outputs": []
    },
    {
      "cell_type": "code",
      "metadata": {
        "id": "yzVMzRBARJ0z"
      },
      "source": [
        "tw_neu"
      ],
      "execution_count": null,
      "outputs": []
    },
    {
      "cell_type": "code",
      "metadata": {
        "id": "VTcrUY9GRJ3Z"
      },
      "source": [
        "tw_pos"
      ],
      "execution_count": null,
      "outputs": []
    },
    {
      "cell_type": "code",
      "metadata": {
        "colab": {
          "base_uri": "https://localhost:8080/"
        },
        "id": "SfC5gSVyRJ9p",
        "outputId": "ca36d6da-86c9-437b-cb4d-7af24a30c133"
      },
      "source": [
        "import numpy as np\r\n",
        "import pandas as pd\r\n",
        "zero=pd.DataFrame([0 for x in range(140000)])\r\n",
        "un=pd.DataFrame([1 for x in range(140000)])\r\n",
        "deux =pd.DataFrame([2 for x in range(140000)])\r\n",
        "zero.shape"
      ],
      "execution_count": 8,
      "outputs": [
        {
          "output_type": "execute_result",
          "data": {
            "text/plain": [
              "(140000, 1)"
            ]
          },
          "metadata": {
            "tags": []
          },
          "execution_count": 8
        }
      ]
    },
    {
      "cell_type": "code",
      "metadata": {
        "id": "Hf1jIeN3FAkc"
      },
      "source": [
        "#df_polarité=pd.concat([zero,un,deux])\r\n",
        "#df_tweet=pd.concat([tw_neg,tw_neu,tw_pos])\r\n",
        "#print(df_polarité.head)\r\n",
        "#print(df_tweet.head)\r\n",
        "\r\n",
        "#df_polarité.value_counts()"
      ],
      "execution_count": null,
      "outputs": []
    },
    {
      "cell_type": "code",
      "metadata": {
        "id": "0bJX7P49Kdp-"
      },
      "source": [
        "#dfsa=pd.concat([tw_neg,tw_neu,tw_pos])\r\n",
        "#dfsa['polarité']=pd.concat([zero,un,deux])\r\n",
        "#dfsa.columns=['tweets','polarité']"
      ],
      "execution_count": 37,
      "outputs": []
    },
    {
      "cell_type": "code",
      "metadata": {
        "id": "UIykHM2RKCkq"
      },
      "source": [
        "#dfsa.to_csv('/content/df_tweet.csv', sep = ',')"
      ],
      "execution_count": 39,
      "outputs": []
    },
    {
      "cell_type": "code",
      "metadata": {
        "colab": {
          "base_uri": "https://localhost:8080/",
          "height": 560
        },
        "id": "6aMCQUcuuGXj",
        "outputId": "f05fa6ab-b68a-42d2-93ef-97aef49c1fbf"
      },
      "source": [
        "from wordcloud import WordCloud, STOPWORDS, ImageColorGenerator\r\n",
        "\r\n",
        "import matplotlib.pyplot as plt\r\n",
        "% matplotlib inline\r\n",
        "\r\n",
        "# Display the generated image:\r\n",
        "\r\n",
        "\r\n",
        "for i in [tw_neg,tw_neu,tw_pos]:\r\n",
        "  wordcloud = WordCloud(max_font_size=50, max_words=140000, background_color=\"black\").generate(str(i))\r\n",
        "  plt.figure()\r\n",
        "  plt.imshow(wordcloud, interpolation=\"gaussian\")\r\n",
        "  plt.axis(\"off\")\r\n",
        "  plt.show()"
      ],
      "execution_count": 67,
      "outputs": [
        {
          "output_type": "display_data",
          "data": {
            "image/png": "[encoded data removed]",
            "text/plain": [
              "<Figure size 432x288 with 1 Axes>"
            ]
          },
          "metadata": {
            "tags": [],
            "needs_background": "light"
          }
        },
        {
          "output_type": "display_data",
          "data": {
            "image/png": "[encoded data removed]",
            "text/plain": [
              "<Figure size 432x288 with 1 Axes>"
            ]
          },
          "metadata": {
            "tags": [],
            "needs_background": "light"
          }
        },
        {
          "output_type": "display_data",
          "data": {
            "image/png": "[encoded data removed]",
            "text/plain": [
              "<Figure size 432x288 with 1 Axes>"
            ]
          },
          "metadata": {
            "tags": [],
            "needs_background": "light"
          }
        }
      ]
    },
    {
      "cell_type": "code",
      "metadata": {
        "id": "KMcYFSs4PINj"
      },
      "source": [
        ""
      ],
      "execution_count": null,
      "outputs": []
    },
    {
      "cell_type": "code",
      "metadata": {
        "colab": {
          "base_uri": "https://localhost:8080/"
        },
        "id": "4dLIq9B-PIQW",
        "outputId": "b412868d-37af-442c-d6da-e6cfb32f8083"
      },
      "source": [
        "import pandas as pd\r\n",
        "import numpy as np\r\n",
        "import re\r\n",
        "import string\r\n",
        "import nltk\r\n",
        "nltk.download('punkt')\r\n",
        "nltk.download('stopwords')\r\n",
        "from nltk.corpus import stopwords\r\n",
        "from nltk.tokenize import word_tokenize\r\n",
        "from sklearn.feature_extraction.text import TfidfVectorizer\r\n",
        "from sklearn.model_selection import train_test_split\r\n",
        "from nltk.stem import PorterStemmer\r\n",
        "from nltk.stem import WordNetLemmatizer\r\n",
        "\r\n",
        "import shelve\r\n",
        "import gensim\r\n",
        "import pickle\r\n",
        "from tensorflow.python.keras.preprocessing.sequence import pad_sequences\r\n",
        "from nltk.tokenize import TweetTokenizer\r\n",
        "from keras.preprocessing.text import Tokenizer\r\n",
        "from keras.models import Sequential\r\n",
        "from keras.layers import Dense, Embedding, LSTM, Dropout\r\n",
        "from sklearn.preprocessing import LabelEncoder\r\n",
        "from gensim.models import Word2Vec\r\n",
        "# ML Libraries\r\n",
        "from sklearn.metrics import accuracy_score\r\n",
        "from sklearn.naive_bayes import MultinomialNB\r\n",
        "from sklearn.linear_model import LogisticRegression\r\n",
        "from sklearn.svm import SVC"
      ],
      "execution_count": 68,
      "outputs": [
        {
          "output_type": "stream",
          "text": [
            "[nltk_data] Downloading package punkt to /root/nltk_data...\n",
            "[nltk_data]   Unzipping tokenizers/punkt.zip.\n",
            "[nltk_data] Downloading package stopwords to /root/nltk_data...\n",
            "[nltk_data]   Unzipping corpora/stopwords.zip.\n"
          ],
          "name": "stdout"
        }
      ]
    },
    {
      "cell_type": "code",
      "metadata": {
        "id": "sLVMkzbfPIT6"
      },
      "source": [
        "import pip\r\n",
        "from pip._internal import main as m\r\n",
        "\r\n",
        "pkgs = ['numpy', 'contractions','pandas']\r\n",
        "for package in pkgs:\r\n",
        "    try:\r\n",
        "        import package\r\n",
        "    except ImportError:\r\n",
        "        pip.main(['install', package])"
      ],
      "execution_count": null,
      "outputs": []
    },
    {
      "cell_type": "code",
      "metadata": {
        "id": "WrDQAZqVPIcg"
      },
      "source": [
        "def preprocess_tweet_text(tweet):\r\n",
        "  \r\n",
        "    import re\r\n",
        "    import contractions\r\n",
        "    import string\r\n",
        "    import nltk\r\n",
        "    #tweet=str(tweet)\r\n",
        "    tweet.lower()\r\n",
        "    # Remove urls\r\n",
        "    tweet = re.sub(r\"http\\S+|www\\S+|https\\S+\", '', tweet, flags=re.MULTILINE)\r\n",
        "    # Remove user @ references and '#' from tweet\r\n",
        "    tweet = re.sub(r'\\@\\w+|\\#','', tweet)\r\n",
        "    # extend contractions\r\n",
        "    tweet =contractions.fix(tweet)\r\n",
        "    # Remove punctuations\r\n",
        "    tweet = tweet.translate(str.maketrans('', '', string.punctuation))\r\n",
        "    # Remove stopwords\r\n",
        "    tweet_tokens = word_tokenize(tweet)\r\n",
        "    stop_words = set(stopwords.words('english'))\r\n",
        "    filtered_words = [w for w in tweet_tokens if not w in stop_words]\r\n",
        "    \r\n",
        "    #ps = PorterStemmer()\r\n",
        "    #stemmed_words = [ps.stem(w) for w in filtered_words]\r\n",
        "    #lemmatizer = WordNetLemmatizer()\r\n",
        "    #lemma_words = [lemmatizer.lemmatize(w, pos='a') for w in stemmed_words]\r\n",
        "    \r\n",
        "    return \" \".join(filtered_words)"
      ],
      "execution_count": 83,
      "outputs": []
    },
    {
      "cell_type": "code",
      "metadata": {
        "colab": {
          "base_uri": "https://localhost:8080/",
          "height": 243
        },
        "id": "00NJjGJjbbla",
        "outputId": "9df02982-8da9-4fdb-8ecf-8222b6f72363"
      },
      "source": [
        "thens=tw_pos.apply(preprocess_tweet_text)\r\n",
        "print(type(thens))\r\n",
        "thens.to_string.describe\r\n",
        "#len(tw_pos)"
      ],
      "execution_count": 100,
      "outputs": [
        {
          "output_type": "stream",
          "text": [
            "<class 'pandas.core.series.Series'>\n"
          ],
          "name": "stdout"
        },
        {
          "output_type": "error",
          "ename": "AttributeError",
          "evalue": "ignored",
          "traceback": [
            "\u001b[0;31m---------------------------------------------------------------------------\u001b[0m",
            "\u001b[0;31mAttributeError\u001b[0m                            Traceback (most recent call last)",
            "\u001b[0;32m<ipython-input-100-d4af8a9753f2>\u001b[0m in \u001b[0;36m<module>\u001b[0;34m()\u001b[0m\n\u001b[1;32m      1\u001b[0m \u001b[0mthens\u001b[0m\u001b[0;34m=\u001b[0m\u001b[0mtw_pos\u001b[0m\u001b[0;34m.\u001b[0m\u001b[0mapply\u001b[0m\u001b[0;34m(\u001b[0m\u001b[0mpreprocess_tweet_text\u001b[0m\u001b[0;34m)\u001b[0m\u001b[0;34m\u001b[0m\u001b[0;34m\u001b[0m\u001b[0m\n\u001b[1;32m      2\u001b[0m \u001b[0mprint\u001b[0m\u001b[0;34m(\u001b[0m\u001b[0mtype\u001b[0m\u001b[0;34m(\u001b[0m\u001b[0mthens\u001b[0m\u001b[0;34m)\u001b[0m\u001b[0;34m)\u001b[0m\u001b[0;34m\u001b[0m\u001b[0;34m\u001b[0m\u001b[0m\n\u001b[0;32m----> 3\u001b[0;31m \u001b[0mthens\u001b[0m\u001b[0;34m.\u001b[0m\u001b[0mto_string\u001b[0m\u001b[0;34m.\u001b[0m\u001b[0mdescribe\u001b[0m\u001b[0;34m\u001b[0m\u001b[0;34m\u001b[0m\u001b[0m\n\u001b[0m\u001b[1;32m      4\u001b[0m \u001b[0;31m#len(tw_pos)\u001b[0m\u001b[0;34m\u001b[0m\u001b[0;34m\u001b[0m\u001b[0;34m\u001b[0m\u001b[0m\n",
            "\u001b[0;31mAttributeError\u001b[0m: 'function' object has no attribute 'describe'"
          ]
        }
      ]
    }
  ]
}